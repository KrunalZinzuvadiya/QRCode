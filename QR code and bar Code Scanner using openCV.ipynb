{
 "cells": [
  {
   "cell_type": "markdown",
   "id": "4048f57e-60a8-4534-a2de-0e12be19f72a",
   "metadata": {},
   "source": [
    "# Name: - Krunal And Swachchha\n",
    "# PRN: - 23070243060 and 23070243054\n",
    "# Subject: - Computer Vision Project"
   ]
  },
  {
   "cell_type": "code",
   "execution_count": 1,
   "id": "f94e021c-98eb-48a8-b673-536accc41b6d",
   "metadata": {},
   "outputs": [],
   "source": [
    "# importing necessary libraries\n",
    "import cv2 as cv\n",
    "import numpy as np\n",
    "from pyzbar.pyzbar import decode\n",
    "\n",
    "# accessing webcam\n",
    "cap = cv.VideoCapture(0)    \n",
    "\n",
    "while cap.isOpened():\n",
    "    # reading the frame\n",
    "    ret, frame = cap.read()\n",
    "    # Display the frame\n",
    "    cv.imshow('My_camera', frame)\n",
    "    # Decode QR codes\n",
    "    decoded = decode(frame)\n",
    "    \n",
    "    for qr in decoded:\n",
    "        # converting data into string characters\n",
    "        data = qr.data.decode('utf-8')\n",
    "        \n",
    "        # printing the data that is decoded from qr-code\n",
    "        print(data)\n",
    "        \n",
    "        pts = np.array([qr.polygon], np.int32)\n",
    "        \n",
    "        pts = pts.reshape((-1, 1, 2)) \n",
    "        \n",
    "        lines = cv.polylines(frame, [pts], True, (0,0,255), 3)\n",
    "        # Displays the frame with polylines drawn around the QR code.\n",
    "        cv.imshow('My_camera', lines)\n",
    "        \n",
    "        # displaying text around qr-code\n",
    "        \n",
    "        # Retrieves the rectangle coordinates of the QR code bounding box.\n",
    "        pts2 = qr.rect\n",
    "        text = cv.putText(frame, data, (pts2[0], pts2[1]), cv.FONT_HERSHEY_PLAIN, 2, (255,255,0), 2)\n",
    "        cv.imshow('My_camera', text)\n",
    "           \n",
    "    if cv.waitKey(1) == ord('q'):\n",
    "        break\n",
    "        \n",
    "cap.release()\n",
    "cv.destroyAllWindows()"
   ]
  },
  {
   "cell_type": "markdown",
   "id": "7caca265-3d1c-40c8-8649-0b0161522309",
   "metadata": {},
   "source": [
    "# Thank You"
   ]
  }
 ],
 "metadata": {
  "kernelspec": {
   "display_name": "Python 3 (ipykernel)",
   "language": "python",
   "name": "python3"
  },
  "language_info": {
   "codemirror_mode": {
    "name": "ipython",
    "version": 3
   },
   "file_extension": ".py",
   "mimetype": "text/x-python",
   "name": "python",
   "nbconvert_exporter": "python",
   "pygments_lexer": "ipython3",
   "version": "3.11.4"
  }
 },
 "nbformat": 4,
 "nbformat_minor": 5
}
